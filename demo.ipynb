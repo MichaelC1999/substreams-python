{
 "cells": [
  {
   "cell_type": "code",
   "execution_count": 2,
   "metadata": {},
   "outputs": [
    {
     "ename": "ModuleNotFoundError",
     "evalue": "No module named 'pandas'",
     "output_type": "error",
     "traceback": [
      "\u001b[0;31m---------------------------------------------------------------------------\u001b[0m",
      "\u001b[0;31mModuleNotFoundError\u001b[0m                       Traceback (most recent call last)",
      "Cell \u001b[0;32mIn [2], line 1\u001b[0m\n\u001b[0;32m----> 1\u001b[0m \u001b[39mfrom\u001b[39;00m \u001b[39msubstream_python\u001b[39;00m \u001b[39mimport\u001b[39;00m Substream\n",
      "File \u001b[0;32m~/messari/substreams_experiments/substreams-python/substream_python/__init__.py:1\u001b[0m\n\u001b[0;32m----> 1\u001b[0m \u001b[39mfrom\u001b[39;00m \u001b[39m.\u001b[39;00m\u001b[39msubstream\u001b[39;00m \u001b[39mimport\u001b[39;00m Substream\n",
      "File \u001b[0;32m~/messari/substreams_experiments/substreams-python/substream_python/substream.py:13\u001b[0m\n\u001b[1;32m     10\u001b[0m \u001b[39mfrom\u001b[39;00m \u001b[39mtyping\u001b[39;00m \u001b[39mimport\u001b[39;00m Optional\n\u001b[1;32m     12\u001b[0m \u001b[39mimport\u001b[39;00m \u001b[39mgrpc\u001b[39;00m\n\u001b[0;32m---> 13\u001b[0m \u001b[39mimport\u001b[39;00m \u001b[39mpandas\u001b[39;00m \u001b[39mas\u001b[39;00m \u001b[39mpd\u001b[39;00m\n\u001b[1;32m     14\u001b[0m \u001b[39mfrom\u001b[39;00m \u001b[39mgoogle\u001b[39;00m\u001b[39m.\u001b[39;00m\u001b[39mprotobuf\u001b[39;00m\u001b[39m.\u001b[39;00m\u001b[39mjson_format\u001b[39;00m \u001b[39mimport\u001b[39;00m MessageToDict\n\u001b[1;32m     16\u001b[0m \u001b[39m# if Path(\"sf/substreams\").exists():\u001b[39;00m\n\u001b[1;32m     17\u001b[0m \u001b[39m#     from sf.substreams.v1.package_pb2 import Package\u001b[39;00m\n\u001b[1;32m     18\u001b[0m \u001b[39m#     from sf.substreams.v1.substreams_pb2 import STEP_IRREVERSIBLE, Request\u001b[39;00m\n\u001b[1;32m     19\u001b[0m \u001b[39m#     from sf.substreams.v1.substreams_pb2_grpc import StreamStub\u001b[39;00m\n\u001b[1;32m     20\u001b[0m \u001b[39m# else:\u001b[39;00m\n\u001b[1;32m     21\u001b[0m \u001b[39m#     raise ModuleNotFoundError(\"Need to generate sf/substreams/ directory first!\")\u001b[39;00m\n",
      "\u001b[0;31mModuleNotFoundError\u001b[0m: No module named 'pandas'"
     ]
    }
   ],
   "source": [
    "from substream_python import Substream"
   ]
  },
  {
   "cell_type": "code",
   "execution_count": 2,
   "metadata": {},
   "outputs": [],
   "source": [
    "sb = Substream(\"substreams-uniswap-v2-v0.1.0.spkg\")"
   ]
  },
  {
   "cell_type": "code",
   "execution_count": 3,
   "metadata": {},
   "outputs": [
    {
     "data": {
      "text/plain": [
       "['map_pair_created_events',\n",
       " 'map_mint_events',\n",
       " 'map_burn_events',\n",
       " 'map_swap_events',\n",
       " 'store_pair_created_events',\n",
       " 'store_mint_events',\n",
       " 'store_burn_events',\n",
       " 'store_swap_events',\n",
       " 'map_usage_events',\n",
       " 'store_usage_events',\n",
       " 'store_usage_counts',\n",
       " 'store_volumes_from_swaps',\n",
       " 'map_block_to_transfers',\n",
       " 'store_transfers']"
      ]
     },
     "execution_count": 3,
     "metadata": {},
     "output_type": "execute_result"
    }
   ],
   "source": [
    "sb.supported_output_modules"
   ]
  },
  {
   "cell_type": "code",
   "execution_count": 7,
   "metadata": {},
   "outputs": [],
   "source": [
    "results = sb.poll([\"store_swap_events\"], start_block=10000835, end_block=10000835+20000)"
   ]
  },
  {
   "cell_type": "code",
   "execution_count": 9,
   "metadata": {},
   "outputs": [],
   "source": [
    "swap_events_result = results[0]"
   ]
  },
  {
   "cell_type": "code",
   "execution_count": 10,
   "metadata": {},
   "outputs": [],
   "source": [
    "data_df = swap_events_result.data\n",
    "snapshots_df = swap_events_result.snapshots"
   ]
  },
  {
   "cell_type": "code",
   "execution_count": 11,
   "metadata": {},
   "outputs": [
    {
     "data": {
      "text/html": [
       "<div>\n",
       "<style scoped>\n",
       "    .dataframe tbody tr th:only-of-type {\n",
       "        vertical-align: middle;\n",
       "    }\n",
       "\n",
       "    .dataframe tbody tr th {\n",
       "        vertical-align: top;\n",
       "    }\n",
       "\n",
       "    .dataframe thead th {\n",
       "        text-align: right;\n",
       "    }\n",
       "</style>\n",
       "<table border=\"1\" class=\"dataframe\">\n",
       "  <thead>\n",
       "    <tr style=\"text-align: right;\">\n",
       "      <th></th>\n",
       "      <th>operation</th>\n",
       "      <th>ordinal</th>\n",
       "      <th>key</th>\n",
       "      <th>new_value</th>\n",
       "      <th>id</th>\n",
       "      <th>number</th>\n",
       "      <th>timestamp</th>\n",
       "      <th>output_module</th>\n",
       "    </tr>\n",
       "  </thead>\n",
       "  <tbody>\n",
       "    <tr>\n",
       "      <th>0</th>\n",
       "      <td>CREATE</td>\n",
       "      <td>97</td>\n",
       "      <td>Event:swap: 932cb88306450d481a0e43365a3ed83262...</td>\n",
       "      <td>b'\\n@932cb88306450d481a0e43365a3ed832625b68f03...</td>\n",
       "      <td>4ba33a650f9e3d8430f94b61a382e60490ec7a06c2f444...</td>\n",
       "      <td>10008566</td>\n",
       "      <td>2020-05-05T21:09:32Z</td>\n",
       "      <td>store_swap_events</td>\n",
       "    </tr>\n",
       "    <tr>\n",
       "      <th>1</th>\n",
       "      <td>CREATE</td>\n",
       "      <td>107</td>\n",
       "      <td>Event:swap: 697b7aaca56a80a8d3a2f560ed7f1ecb97...</td>\n",
       "      <td>b'\\n@697b7aaca56a80a8d3a2f560ed7f1ecb97c22b2ed...</td>\n",
       "      <td>9eadcc046043be7c86e398492e3c935f5d410692b3524e...</td>\n",
       "      <td>10008585</td>\n",
       "      <td>2020-05-05T21:12:35Z</td>\n",
       "      <td>store_swap_events</td>\n",
       "    </tr>\n",
       "    <tr>\n",
       "      <th>2</th>\n",
       "      <td>CREATE</td>\n",
       "      <td>2165</td>\n",
       "      <td>Event:swap: 43b6bfd06dde0814fe9c1b63ce98ec4c67...</td>\n",
       "      <td>b'\\n@43b6bfd06dde0814fe9c1b63ce98ec4c67c72d961...</td>\n",
       "      <td>fddbc9d9a6155c54f18f83d230996366f35ead00741e08...</td>\n",
       "      <td>10013764</td>\n",
       "      <td>2020-05-06T16:24:55Z</td>\n",
       "      <td>store_swap_events</td>\n",
       "    </tr>\n",
       "    <tr>\n",
       "      <th>3</th>\n",
       "      <td>CREATE</td>\n",
       "      <td>1331</td>\n",
       "      <td>Event:swap: 735cf98e86a5df67b6a837ae50de1d7a58...</td>\n",
       "      <td>b'\\n@735cf98e86a5df67b6a837ae50de1d7a589d9f6ba...</td>\n",
       "      <td>e367e15f16985e1786f5e0f109a430769c1de0fda753a2...</td>\n",
       "      <td>10014418</td>\n",
       "      <td>2020-05-06T18:51:12Z</td>\n",
       "      <td>store_swap_events</td>\n",
       "    </tr>\n",
       "    <tr>\n",
       "      <th>4</th>\n",
       "      <td>CREATE</td>\n",
       "      <td>1369</td>\n",
       "      <td>Event:swap: 735cf98e86a5df67b6a837ae50de1d7a58...</td>\n",
       "      <td>b'\\n@735cf98e86a5df67b6a837ae50de1d7a589d9f6ba...</td>\n",
       "      <td>e367e15f16985e1786f5e0f109a430769c1de0fda753a2...</td>\n",
       "      <td>10014418</td>\n",
       "      <td>2020-05-06T18:51:12Z</td>\n",
       "      <td>store_swap_events</td>\n",
       "    </tr>\n",
       "    <tr>\n",
       "      <th>5</th>\n",
       "      <td>CREATE</td>\n",
       "      <td>502</td>\n",
       "      <td>Event:swap: f7e7f3b82d8944e0cc89ab16a015cbdcfe...</td>\n",
       "      <td>b'\\n@f7e7f3b82d8944e0cc89ab16a015cbdcfe7d0806d...</td>\n",
       "      <td>ad3426ec894e2c53011e182f5ab401622ef5bf7233fa8b...</td>\n",
       "      <td>10014425</td>\n",
       "      <td>2020-05-06T18:53:34Z</td>\n",
       "      <td>store_swap_events</td>\n",
       "    </tr>\n",
       "  </tbody>\n",
       "</table>\n",
       "</div>"
      ],
      "text/plain": [
       "  operation ordinal                                                key  \\\n",
       "0    CREATE      97  Event:swap: 932cb88306450d481a0e43365a3ed83262...   \n",
       "1    CREATE     107  Event:swap: 697b7aaca56a80a8d3a2f560ed7f1ecb97...   \n",
       "2    CREATE    2165  Event:swap: 43b6bfd06dde0814fe9c1b63ce98ec4c67...   \n",
       "3    CREATE    1331  Event:swap: 735cf98e86a5df67b6a837ae50de1d7a58...   \n",
       "4    CREATE    1369  Event:swap: 735cf98e86a5df67b6a837ae50de1d7a58...   \n",
       "5    CREATE     502  Event:swap: f7e7f3b82d8944e0cc89ab16a015cbdcfe...   \n",
       "\n",
       "                                           new_value  \\\n",
       "0  b'\\n@932cb88306450d481a0e43365a3ed832625b68f03...   \n",
       "1  b'\\n@697b7aaca56a80a8d3a2f560ed7f1ecb97c22b2ed...   \n",
       "2  b'\\n@43b6bfd06dde0814fe9c1b63ce98ec4c67c72d961...   \n",
       "3  b'\\n@735cf98e86a5df67b6a837ae50de1d7a589d9f6ba...   \n",
       "4  b'\\n@735cf98e86a5df67b6a837ae50de1d7a589d9f6ba...   \n",
       "5  b'\\n@f7e7f3b82d8944e0cc89ab16a015cbdcfe7d0806d...   \n",
       "\n",
       "                                                  id    number  \\\n",
       "0  4ba33a650f9e3d8430f94b61a382e60490ec7a06c2f444...  10008566   \n",
       "1  9eadcc046043be7c86e398492e3c935f5d410692b3524e...  10008585   \n",
       "2  fddbc9d9a6155c54f18f83d230996366f35ead00741e08...  10013764   \n",
       "3  e367e15f16985e1786f5e0f109a430769c1de0fda753a2...  10014418   \n",
       "4  e367e15f16985e1786f5e0f109a430769c1de0fda753a2...  10014418   \n",
       "5  ad3426ec894e2c53011e182f5ab401622ef5bf7233fa8b...  10014425   \n",
       "\n",
       "              timestamp      output_module  \n",
       "0  2020-05-05T21:09:32Z  store_swap_events  \n",
       "1  2020-05-05T21:12:35Z  store_swap_events  \n",
       "2  2020-05-06T16:24:55Z  store_swap_events  \n",
       "3  2020-05-06T18:51:12Z  store_swap_events  \n",
       "4  2020-05-06T18:51:12Z  store_swap_events  \n",
       "5  2020-05-06T18:53:34Z  store_swap_events  "
      ]
     },
     "execution_count": 11,
     "metadata": {},
     "output_type": "execute_result"
    }
   ],
   "source": [
    "data_df"
   ]
  },
  {
   "cell_type": "code",
   "execution_count": 12,
   "metadata": {},
   "outputs": [
    {
     "data": {
      "text/html": [
       "<div>\n",
       "<style scoped>\n",
       "    .dataframe tbody tr th:only-of-type {\n",
       "        vertical-align: middle;\n",
       "    }\n",
       "\n",
       "    .dataframe tbody tr th {\n",
       "        vertical-align: top;\n",
       "    }\n",
       "\n",
       "    .dataframe thead th {\n",
       "        text-align: right;\n",
       "    }\n",
       "</style>\n",
       "<table border=\"1\" class=\"dataframe\">\n",
       "  <thead>\n",
       "    <tr style=\"text-align: right;\">\n",
       "      <th></th>\n",
       "      <th>output_module</th>\n",
       "    </tr>\n",
       "  </thead>\n",
       "  <tbody>\n",
       "  </tbody>\n",
       "</table>\n",
       "</div>"
      ],
      "text/plain": [
       "Empty DataFrame\n",
       "Columns: [output_module]\n",
       "Index: []"
      ]
     },
     "execution_count": 12,
     "metadata": {},
     "output_type": "execute_result"
    }
   ],
   "source": [
    "snapshots_df"
   ]
  },
  {
   "cell_type": "code",
   "execution_count": null,
   "metadata": {},
   "outputs": [],
   "source": []
  }
 ],
 "metadata": {
  "kernelspec": {
   "display_name": "Python 3.10.6 64-bit ('substreams_external_env')",
   "language": "python",
   "name": "python3"
  },
  "language_info": {
   "codemirror_mode": {
    "name": "ipython",
    "version": 3
   },
   "file_extension": ".py",
   "mimetype": "text/x-python",
   "name": "python",
   "nbconvert_exporter": "python",
   "pygments_lexer": "ipython3",
   "version": "3.10.6"
  },
  "orig_nbformat": 4,
  "vscode": {
   "interpreter": {
    "hash": "23b2e4cd654e59521e9e8094bdea7e41c79464372a7f989c8ae2db31d386bf1a"
   }
  }
 },
 "nbformat": 4,
 "nbformat_minor": 2
}
